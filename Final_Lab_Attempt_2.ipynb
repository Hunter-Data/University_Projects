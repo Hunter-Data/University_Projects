{
 "cells": [
  {
   "cell_type": "markdown",
   "id": "e5c69d83-7f38-444e-9f21-9c498d9c7b5d",
   "metadata": {},
   "source": [
    "# Import Data and Packages"
   ]
  },
  {
   "cell_type": "code",
   "execution_count": 2,
   "id": "a2f8e1fc-2141-4f36-a676-98a7109e7c85",
   "metadata": {},
   "outputs": [],
   "source": [
    "import matplotlib.pyplot as plt\n",
    "import numpy as np\n",
    "import pandas as pd\n",
    "import seaborn as sns\n",
    "from sklearn.preprocessing import StandardScaler\n",
    "from sklearn.model_selection import train_test_split, GridSearchCV\n",
    "from sklearn.linear_model import LogisticRegression, LinearRegression\n",
    "from sklearn.tree import DecisionTreeClassifier\n",
    "from sklearn.ensemble import RandomForestClassifier\n",
    "from sklearn.metrics import accuracy_score, roc_auc_score, mean_squared_error\n",
    "data=pd.read_csv('Final_Data_R_Manipulated.csv')"
   ]
  },
  {
   "cell_type": "markdown",
   "id": "61831f20-8c56-4bdb-8652-b7aa6eed7640",
   "metadata": {},
   "source": [
    "## Explore Data"
   ]
  },
  {
   "cell_type": "code",
   "execution_count": 4,
   "id": "cc376d58-30c5-4968-91c0-8c829dabd376",
   "metadata": {},
   "outputs": [
    {
     "name": "stdout",
     "output_type": "stream",
     "text": [
      "   PatientID PatientName Gender  Age Location ReasonForVisit  Duration  \\\n",
      "0          1   Patient 1   Male   56     West        Checkup       109   \n",
      "1          1   Patient 1   Male   56     West      Follow-up        71   \n",
      "2          1   Patient 1   Male   56     West      Emergency        76   \n",
      "3          1   Patient 1   Male   56     West      Follow-up        35   \n",
      "4          1   Patient 1   Male   56     West      Follow-up       140   \n",
      "\n",
      "   ClinicID Specialization Age_group  LocationCode  GenderCode  VisitCode  \\\n",
      "0         8      Neurology     51-60             4           2          1   \n",
      "1         9        General     51-60             4           2          2   \n",
      "2        12      Neurology     51-60             4           2          3   \n",
      "3        12      Neurology     51-60             4           2          2   \n",
      "4        17     Cardiology     51-60             4           2          2   \n",
      "\n",
      "   SpecializationCode  \n",
      "0                   1  \n",
      "1                   2  \n",
      "2                   1  \n",
      "3                   1  \n",
      "4                   3  \n"
     ]
    }
   ],
   "source": [
    "print(data.head())"
   ]
  },
  {
   "cell_type": "code",
   "execution_count": 5,
   "id": "49c8c632-d54f-4c83-832c-db540d8acd5f",
   "metadata": {},
   "outputs": [
    {
     "data": {
      "text/plain": [
       "['PatientID',\n",
       " 'PatientName',\n",
       " 'Gender',\n",
       " 'Age',\n",
       " 'Location',\n",
       " 'ReasonForVisit',\n",
       " 'Duration',\n",
       " 'ClinicID',\n",
       " 'Specialization',\n",
       " 'Age_group',\n",
       " 'LocationCode',\n",
       " 'GenderCode',\n",
       " 'VisitCode',\n",
       " 'SpecializationCode']"
      ]
     },
     "execution_count": 5,
     "metadata": {},
     "output_type": "execute_result"
    }
   ],
   "source": [
    "data.columns.tolist()"
   ]
  },
  {
   "cell_type": "code",
   "execution_count": 6,
   "id": "a2e4ca95-2257-434c-9636-06a0ce28cbae",
   "metadata": {},
   "outputs": [
    {
     "name": "stdout",
     "output_type": "stream",
     "text": [
      "<class 'pandas.core.frame.DataFrame'>\n",
      "RangeIndex: 500 entries, 0 to 499\n",
      "Data columns (total 14 columns):\n",
      " #   Column              Non-Null Count  Dtype \n",
      "---  ------              --------------  ----- \n",
      " 0   PatientID           500 non-null    int64 \n",
      " 1   PatientName         500 non-null    object\n",
      " 2   Gender              500 non-null    object\n",
      " 3   Age                 500 non-null    int64 \n",
      " 4   Location            500 non-null    object\n",
      " 5   ReasonForVisit      500 non-null    object\n",
      " 6   Duration            500 non-null    int64 \n",
      " 7   ClinicID            500 non-null    int64 \n",
      " 8   Specialization      500 non-null    object\n",
      " 9   Age_group           500 non-null    object\n",
      " 10  LocationCode        500 non-null    int64 \n",
      " 11  GenderCode          500 non-null    int64 \n",
      " 12  VisitCode           500 non-null    int64 \n",
      " 13  SpecializationCode  500 non-null    int64 \n",
      "dtypes: int64(8), object(6)\n",
      "memory usage: 54.8+ KB\n"
     ]
    }
   ],
   "source": [
    "data.info()"
   ]
  },
  {
   "cell_type": "code",
   "execution_count": 7,
   "id": "f26dedaa-7b64-4b12-93d6-765e5cf3b499",
   "metadata": {},
   "outputs": [
    {
     "data": {
      "text/plain": [
       "PatientID             0\n",
       "PatientName           0\n",
       "Gender                0\n",
       "Age                   0\n",
       "Location              0\n",
       "ReasonForVisit        0\n",
       "Duration              0\n",
       "ClinicID              0\n",
       "Specialization        0\n",
       "Age_group             0\n",
       "LocationCode          0\n",
       "GenderCode            0\n",
       "VisitCode             0\n",
       "SpecializationCode    0\n",
       "dtype: int64"
      ]
     },
     "execution_count": 7,
     "metadata": {},
     "output_type": "execute_result"
    }
   ],
   "source": [
    "data.isnull().sum()"
   ]
  },
  {
   "cell_type": "code",
   "execution_count": 8,
   "id": "68539598-0a34-4850-b5b7-a806fc796f49",
   "metadata": {},
   "outputs": [
    {
     "data": {
      "text/plain": [
       "PatientID              98\n",
       "PatientName            98\n",
       "Gender                  2\n",
       "Age                    46\n",
       "Location                4\n",
       "ReasonForVisit          4\n",
       "Duration              154\n",
       "ClinicID               20\n",
       "Specialization          5\n",
       "Age_group               6\n",
       "LocationCode            4\n",
       "GenderCode              2\n",
       "VisitCode               4\n",
       "SpecializationCode      5\n",
       "dtype: int64"
      ]
     },
     "execution_count": 8,
     "metadata": {},
     "output_type": "execute_result"
    }
   ],
   "source": [
    "data.nunique()"
   ]
  },
  {
   "cell_type": "code",
   "execution_count": 9,
   "id": "eb7bc432-6818-4833-b48d-dd2b01382763",
   "metadata": {},
   "outputs": [
    {
     "data": {
      "text/plain": [
       "PatientID              int64\n",
       "PatientName           object\n",
       "Gender                object\n",
       "Age                    int64\n",
       "Location              object\n",
       "ReasonForVisit        object\n",
       "Duration               int64\n",
       "ClinicID               int64\n",
       "Specialization        object\n",
       "Age_group             object\n",
       "LocationCode           int64\n",
       "GenderCode             int64\n",
       "VisitCode              int64\n",
       "SpecializationCode     int64\n",
       "dtype: object"
      ]
     },
     "execution_count": 9,
     "metadata": {},
     "output_type": "execute_result"
    }
   ],
   "source": [
    "data.dtypes"
   ]
  },
  {
   "cell_type": "markdown",
   "id": "7c17fc80-1434-4b26-ab32-eb2573d0638b",
   "metadata": {},
   "source": [
    "## Preparing Data for Modeling"
   ]
  },
  {
   "cell_type": "markdown",
   "id": "8ad25418-bc82-4475-9e93-995e67a7c3f9",
   "metadata": {},
   "source": [
    "### One-hot ecoding catagorical values"
   ]
  },
  {
   "cell_type": "code",
   "execution_count": 12,
   "id": "7b911a3d-c112-468a-8faf-f8c46ad3bc2a",
   "metadata": {},
   "outputs": [
    {
     "data": {
      "text/html": [
       "<div>\n",
       "<style scoped>\n",
       "    .dataframe tbody tr th:only-of-type {\n",
       "        vertical-align: middle;\n",
       "    }\n",
       "\n",
       "    .dataframe tbody tr th {\n",
       "        vertical-align: top;\n",
       "    }\n",
       "\n",
       "    .dataframe thead th {\n",
       "        text-align: right;\n",
       "    }\n",
       "</style>\n",
       "<table border=\"1\" class=\"dataframe\">\n",
       "  <thead>\n",
       "    <tr style=\"text-align: right;\">\n",
       "      <th></th>\n",
       "      <th>PatientID</th>\n",
       "      <th>PatientName</th>\n",
       "      <th>Gender</th>\n",
       "      <th>Location</th>\n",
       "      <th>ReasonForVisit</th>\n",
       "      <th>ClinicID</th>\n",
       "      <th>Specialization</th>\n",
       "      <th>Age_group</th>\n",
       "      <th>GenderCode</th>\n",
       "      <th>Age_19</th>\n",
       "      <th>...</th>\n",
       "      <th>VisitCode_4</th>\n",
       "      <th>SpecializationCode_1</th>\n",
       "      <th>SpecializationCode_2</th>\n",
       "      <th>SpecializationCode_3</th>\n",
       "      <th>SpecializationCode_4</th>\n",
       "      <th>SpecializationCode_5</th>\n",
       "      <th>LocationCode_1</th>\n",
       "      <th>LocationCode_2</th>\n",
       "      <th>LocationCode_3</th>\n",
       "      <th>LocationCode_4</th>\n",
       "    </tr>\n",
       "  </thead>\n",
       "  <tbody>\n",
       "    <tr>\n",
       "      <th>0</th>\n",
       "      <td>1</td>\n",
       "      <td>Patient 1</td>\n",
       "      <td>Male</td>\n",
       "      <td>West</td>\n",
       "      <td>Checkup</td>\n",
       "      <td>8</td>\n",
       "      <td>Neurology</td>\n",
       "      <td>51-60</td>\n",
       "      <td>2</td>\n",
       "      <td>False</td>\n",
       "      <td>...</td>\n",
       "      <td>False</td>\n",
       "      <td>True</td>\n",
       "      <td>False</td>\n",
       "      <td>False</td>\n",
       "      <td>False</td>\n",
       "      <td>False</td>\n",
       "      <td>False</td>\n",
       "      <td>False</td>\n",
       "      <td>False</td>\n",
       "      <td>True</td>\n",
       "    </tr>\n",
       "    <tr>\n",
       "      <th>1</th>\n",
       "      <td>1</td>\n",
       "      <td>Patient 1</td>\n",
       "      <td>Male</td>\n",
       "      <td>West</td>\n",
       "      <td>Follow-up</td>\n",
       "      <td>9</td>\n",
       "      <td>General</td>\n",
       "      <td>51-60</td>\n",
       "      <td>2</td>\n",
       "      <td>False</td>\n",
       "      <td>...</td>\n",
       "      <td>False</td>\n",
       "      <td>False</td>\n",
       "      <td>True</td>\n",
       "      <td>False</td>\n",
       "      <td>False</td>\n",
       "      <td>False</td>\n",
       "      <td>False</td>\n",
       "      <td>False</td>\n",
       "      <td>False</td>\n",
       "      <td>True</td>\n",
       "    </tr>\n",
       "    <tr>\n",
       "      <th>2</th>\n",
       "      <td>1</td>\n",
       "      <td>Patient 1</td>\n",
       "      <td>Male</td>\n",
       "      <td>West</td>\n",
       "      <td>Emergency</td>\n",
       "      <td>12</td>\n",
       "      <td>Neurology</td>\n",
       "      <td>51-60</td>\n",
       "      <td>2</td>\n",
       "      <td>False</td>\n",
       "      <td>...</td>\n",
       "      <td>False</td>\n",
       "      <td>True</td>\n",
       "      <td>False</td>\n",
       "      <td>False</td>\n",
       "      <td>False</td>\n",
       "      <td>False</td>\n",
       "      <td>False</td>\n",
       "      <td>False</td>\n",
       "      <td>False</td>\n",
       "      <td>True</td>\n",
       "    </tr>\n",
       "    <tr>\n",
       "      <th>3</th>\n",
       "      <td>1</td>\n",
       "      <td>Patient 1</td>\n",
       "      <td>Male</td>\n",
       "      <td>West</td>\n",
       "      <td>Follow-up</td>\n",
       "      <td>12</td>\n",
       "      <td>Neurology</td>\n",
       "      <td>51-60</td>\n",
       "      <td>2</td>\n",
       "      <td>False</td>\n",
       "      <td>...</td>\n",
       "      <td>False</td>\n",
       "      <td>True</td>\n",
       "      <td>False</td>\n",
       "      <td>False</td>\n",
       "      <td>False</td>\n",
       "      <td>False</td>\n",
       "      <td>False</td>\n",
       "      <td>False</td>\n",
       "      <td>False</td>\n",
       "      <td>True</td>\n",
       "    </tr>\n",
       "    <tr>\n",
       "      <th>4</th>\n",
       "      <td>1</td>\n",
       "      <td>Patient 1</td>\n",
       "      <td>Male</td>\n",
       "      <td>West</td>\n",
       "      <td>Follow-up</td>\n",
       "      <td>17</td>\n",
       "      <td>Cardiology</td>\n",
       "      <td>51-60</td>\n",
       "      <td>2</td>\n",
       "      <td>False</td>\n",
       "      <td>...</td>\n",
       "      <td>False</td>\n",
       "      <td>False</td>\n",
       "      <td>False</td>\n",
       "      <td>True</td>\n",
       "      <td>False</td>\n",
       "      <td>False</td>\n",
       "      <td>False</td>\n",
       "      <td>False</td>\n",
       "      <td>False</td>\n",
       "      <td>True</td>\n",
       "    </tr>\n",
       "    <tr>\n",
       "      <th>...</th>\n",
       "      <td>...</td>\n",
       "      <td>...</td>\n",
       "      <td>...</td>\n",
       "      <td>...</td>\n",
       "      <td>...</td>\n",
       "      <td>...</td>\n",
       "      <td>...</td>\n",
       "      <td>...</td>\n",
       "      <td>...</td>\n",
       "      <td>...</td>\n",
       "      <td>...</td>\n",
       "      <td>...</td>\n",
       "      <td>...</td>\n",
       "      <td>...</td>\n",
       "      <td>...</td>\n",
       "      <td>...</td>\n",
       "      <td>...</td>\n",
       "      <td>...</td>\n",
       "      <td>...</td>\n",
       "      <td>...</td>\n",
       "      <td>...</td>\n",
       "    </tr>\n",
       "    <tr>\n",
       "      <th>495</th>\n",
       "      <td>100</td>\n",
       "      <td>Patient 100</td>\n",
       "      <td>Female</td>\n",
       "      <td>South</td>\n",
       "      <td>Checkup</td>\n",
       "      <td>2</td>\n",
       "      <td>Cardiology</td>\n",
       "      <td>31-40</td>\n",
       "      <td>1</td>\n",
       "      <td>False</td>\n",
       "      <td>...</td>\n",
       "      <td>False</td>\n",
       "      <td>False</td>\n",
       "      <td>False</td>\n",
       "      <td>True</td>\n",
       "      <td>False</td>\n",
       "      <td>False</td>\n",
       "      <td>False</td>\n",
       "      <td>True</td>\n",
       "      <td>False</td>\n",
       "      <td>False</td>\n",
       "    </tr>\n",
       "    <tr>\n",
       "      <th>496</th>\n",
       "      <td>100</td>\n",
       "      <td>Patient 100</td>\n",
       "      <td>Female</td>\n",
       "      <td>South</td>\n",
       "      <td>Illness</td>\n",
       "      <td>4</td>\n",
       "      <td>Orthopedics</td>\n",
       "      <td>31-40</td>\n",
       "      <td>1</td>\n",
       "      <td>False</td>\n",
       "      <td>...</td>\n",
       "      <td>True</td>\n",
       "      <td>False</td>\n",
       "      <td>False</td>\n",
       "      <td>False</td>\n",
       "      <td>False</td>\n",
       "      <td>True</td>\n",
       "      <td>False</td>\n",
       "      <td>True</td>\n",
       "      <td>False</td>\n",
       "      <td>False</td>\n",
       "    </tr>\n",
       "    <tr>\n",
       "      <th>497</th>\n",
       "      <td>100</td>\n",
       "      <td>Patient 100</td>\n",
       "      <td>Female</td>\n",
       "      <td>South</td>\n",
       "      <td>Emergency</td>\n",
       "      <td>12</td>\n",
       "      <td>Neurology</td>\n",
       "      <td>31-40</td>\n",
       "      <td>1</td>\n",
       "      <td>False</td>\n",
       "      <td>...</td>\n",
       "      <td>False</td>\n",
       "      <td>True</td>\n",
       "      <td>False</td>\n",
       "      <td>False</td>\n",
       "      <td>False</td>\n",
       "      <td>False</td>\n",
       "      <td>False</td>\n",
       "      <td>True</td>\n",
       "      <td>False</td>\n",
       "      <td>False</td>\n",
       "    </tr>\n",
       "    <tr>\n",
       "      <th>498</th>\n",
       "      <td>100</td>\n",
       "      <td>Patient 100</td>\n",
       "      <td>Female</td>\n",
       "      <td>South</td>\n",
       "      <td>Emergency</td>\n",
       "      <td>13</td>\n",
       "      <td>Orthopedics</td>\n",
       "      <td>31-40</td>\n",
       "      <td>1</td>\n",
       "      <td>False</td>\n",
       "      <td>...</td>\n",
       "      <td>False</td>\n",
       "      <td>False</td>\n",
       "      <td>False</td>\n",
       "      <td>False</td>\n",
       "      <td>False</td>\n",
       "      <td>True</td>\n",
       "      <td>False</td>\n",
       "      <td>True</td>\n",
       "      <td>False</td>\n",
       "      <td>False</td>\n",
       "    </tr>\n",
       "    <tr>\n",
       "      <th>499</th>\n",
       "      <td>100</td>\n",
       "      <td>Patient 100</td>\n",
       "      <td>Female</td>\n",
       "      <td>South</td>\n",
       "      <td>Emergency</td>\n",
       "      <td>15</td>\n",
       "      <td>Neurology</td>\n",
       "      <td>31-40</td>\n",
       "      <td>1</td>\n",
       "      <td>False</td>\n",
       "      <td>...</td>\n",
       "      <td>False</td>\n",
       "      <td>True</td>\n",
       "      <td>False</td>\n",
       "      <td>False</td>\n",
       "      <td>False</td>\n",
       "      <td>False</td>\n",
       "      <td>False</td>\n",
       "      <td>True</td>\n",
       "      <td>False</td>\n",
       "      <td>False</td>\n",
       "    </tr>\n",
       "  </tbody>\n",
       "</table>\n",
       "<p>500 rows × 222 columns</p>\n",
       "</div>"
      ],
      "text/plain": [
       "     PatientID  PatientName  Gender Location ReasonForVisit  ClinicID  \\\n",
       "0            1    Patient 1    Male     West        Checkup         8   \n",
       "1            1    Patient 1    Male     West      Follow-up         9   \n",
       "2            1    Patient 1    Male     West      Emergency        12   \n",
       "3            1    Patient 1    Male     West      Follow-up        12   \n",
       "4            1    Patient 1    Male     West      Follow-up        17   \n",
       "..         ...          ...     ...      ...            ...       ...   \n",
       "495        100  Patient 100  Female    South        Checkup         2   \n",
       "496        100  Patient 100  Female    South        Illness         4   \n",
       "497        100  Patient 100  Female    South      Emergency        12   \n",
       "498        100  Patient 100  Female    South      Emergency        13   \n",
       "499        100  Patient 100  Female    South      Emergency        15   \n",
       "\n",
       "    Specialization Age_group  GenderCode  Age_19  ...  VisitCode_4  \\\n",
       "0        Neurology     51-60           2   False  ...        False   \n",
       "1          General     51-60           2   False  ...        False   \n",
       "2        Neurology     51-60           2   False  ...        False   \n",
       "3        Neurology     51-60           2   False  ...        False   \n",
       "4       Cardiology     51-60           2   False  ...        False   \n",
       "..             ...       ...         ...     ...  ...          ...   \n",
       "495     Cardiology     31-40           1   False  ...        False   \n",
       "496    Orthopedics     31-40           1   False  ...         True   \n",
       "497      Neurology     31-40           1   False  ...        False   \n",
       "498    Orthopedics     31-40           1   False  ...        False   \n",
       "499      Neurology     31-40           1   False  ...        False   \n",
       "\n",
       "     SpecializationCode_1  SpecializationCode_2  SpecializationCode_3  \\\n",
       "0                    True                 False                 False   \n",
       "1                   False                  True                 False   \n",
       "2                    True                 False                 False   \n",
       "3                    True                 False                 False   \n",
       "4                   False                 False                  True   \n",
       "..                    ...                   ...                   ...   \n",
       "495                 False                 False                  True   \n",
       "496                 False                 False                 False   \n",
       "497                  True                 False                 False   \n",
       "498                 False                 False                 False   \n",
       "499                  True                 False                 False   \n",
       "\n",
       "     SpecializationCode_4  SpecializationCode_5  LocationCode_1  \\\n",
       "0                   False                 False           False   \n",
       "1                   False                 False           False   \n",
       "2                   False                 False           False   \n",
       "3                   False                 False           False   \n",
       "4                   False                 False           False   \n",
       "..                    ...                   ...             ...   \n",
       "495                 False                 False           False   \n",
       "496                 False                  True           False   \n",
       "497                 False                 False           False   \n",
       "498                 False                  True           False   \n",
       "499                 False                 False           False   \n",
       "\n",
       "     LocationCode_2  LocationCode_3  LocationCode_4  \n",
       "0             False           False            True  \n",
       "1             False           False            True  \n",
       "2             False           False            True  \n",
       "3             False           False            True  \n",
       "4             False           False            True  \n",
       "..              ...             ...             ...  \n",
       "495            True           False           False  \n",
       "496            True           False           False  \n",
       "497            True           False           False  \n",
       "498            True           False           False  \n",
       "499            True           False           False  \n",
       "\n",
       "[500 rows x 222 columns]"
      ]
     },
     "execution_count": 12,
     "metadata": {},
     "output_type": "execute_result"
    }
   ],
   "source": [
    "pd.get_dummies(data, columns=['Age', 'Duration', 'VisitCode', 'SpecializationCode', 'LocationCode'])"
   ]
  },
  {
   "cell_type": "markdown",
   "id": "e043d237-b3ce-4236-8a14-b2161d99ad30",
   "metadata": {},
   "source": [
    "### Normalize numerical values"
   ]
  },
  {
   "cell_type": "markdown",
   "id": "619e182c-4fcb-48f1-9f47-44eacdff747c",
   "metadata": {},
   "source": [
    "### Feature engineering (select relevant features)"
   ]
  },
  {
   "cell_type": "code",
   "execution_count": 15,
   "id": "7af04b10-bc02-473b-a2da-8723e8fe454b",
   "metadata": {},
   "outputs": [],
   "source": [
    "X = data[['Age', 'SpecializationCode', 'VisitCode', 'LocationCode', 'Duration']]\n",
    "y = data[\"GenderCode\"] "
   ]
  },
  {
   "cell_type": "markdown",
   "id": "4a26b6de-82f8-4bc4-9a78-613867f2a106",
   "metadata": {},
   "source": [
    "### Split data into training and testing sets"
   ]
  },
  {
   "cell_type": "code",
   "execution_count": 17,
   "id": "7493547c-71c8-4568-b5b2-040095fad39c",
   "metadata": {},
   "outputs": [],
   "source": [
    "X_train, X_test, y_train, y_test = train_test_split(X, y, test_size=0.2, random_state=42)"
   ]
  },
  {
   "cell_type": "markdown",
   "id": "83335320-6251-4d1a-8e52-2f19e445b08d",
   "metadata": {},
   "source": [
    "### Standardize features"
   ]
  },
  {
   "cell_type": "code",
   "execution_count": 19,
   "id": "66ff9c21-7c88-4362-b4ae-d3e633d1bf3e",
   "metadata": {},
   "outputs": [],
   "source": [
    "scaler = StandardScaler()\n",
    "X_train_scaled = scaler.fit_transform(X_train)\n",
    "X_test_scaled = scaler.transform(X_test)"
   ]
  },
  {
   "cell_type": "markdown",
   "id": "0230bb16-9796-48af-ad10-8be5eabe665a",
   "metadata": {},
   "source": [
    "### Model evaluation function"
   ]
  },
  {
   "cell_type": "code",
   "execution_count": 21,
   "id": "f5b0b748-1652-4b75-9fb1-a8f1090aec59",
   "metadata": {},
   "outputs": [],
   "source": [
    "def evaluate_model(model, X_test, y_test):\n",
    "    y_pred = model.predict(X_test)\n",
    "    accuracy = accuracy_score(y_test, y_pred)\n",
    "    roc_auc = roc_auc_score(y_test, y_pred)\n",
    "    print(f\"Accuracy: {accuracy}, ROC-AUC: {roc_auc}\")"
   ]
  },
  {
   "cell_type": "markdown",
   "id": "3aa39ad5-ac1d-4187-a836-d180b2bcdbb6",
   "metadata": {},
   "source": [
    "### Experimenting with different models"
   ]
  },
  {
   "cell_type": "code",
   "execution_count": 23,
   "id": "d8704dc2-2125-4e79-a4e0-d0ddd9b1e0b2",
   "metadata": {},
   "outputs": [
    {
     "name": "stdout",
     "output_type": "stream",
     "text": [
      "Logistic Regression:\n",
      "Accuracy: 0.59, ROC-AUC: 0.525\n"
     ]
    }
   ],
   "source": [
    "print(\"Logistic Regression:\")\n",
    "logreg_model = LogisticRegression()\n",
    "logreg_model.fit(X_train_scaled, y_train)\n",
    "evaluate_model(logreg_model, X_test_scaled, y_test)"
   ]
  },
  {
   "cell_type": "code",
   "execution_count": 24,
   "id": "e617be3e-182a-4f0a-93a9-4669dbeb72d0",
   "metadata": {},
   "outputs": [
    {
     "name": "stdout",
     "output_type": "stream",
     "text": [
      "Decision Tree:\n",
      "Accuracy: 0.83, ROC-AUC: 0.8291666666666666\n"
     ]
    }
   ],
   "source": [
    "print(\"Decision Tree:\")\n",
    "dt_model = DecisionTreeClassifier()\n",
    "dt_model.fit(X_train_scaled, y_train)\n",
    "evaluate_model(dt_model, X_test_scaled, y_test)"
   ]
  },
  {
   "cell_type": "code",
   "execution_count": 25,
   "id": "6316b996-db04-4900-9d60-91c3729a96f4",
   "metadata": {},
   "outputs": [
    {
     "name": "stdout",
     "output_type": "stream",
     "text": [
      "Random Forest:\n",
      "Accuracy: 0.7, ROC-AUC: 0.6708333333333333\n"
     ]
    }
   ],
   "source": [
    "print(\"Random Forest:\")\n",
    "rf_model = RandomForestClassifier()\n",
    "rf_model.fit(X_train_scaled, y_train)\n",
    "evaluate_model(rf_model, X_test_scaled, y_test)"
   ]
  },
  {
   "cell_type": "code",
   "execution_count": null,
   "id": "6ffa494c-16e3-4874-9927-dd36f5447e60",
   "metadata": {},
   "outputs": [],
   "source": []
  },
  {
   "cell_type": "code",
   "execution_count": null,
   "id": "a2671870-b3b1-4635-8b97-e85c05357db2",
   "metadata": {},
   "outputs": [],
   "source": []
  },
  {
   "cell_type": "code",
   "execution_count": null,
   "id": "81071cb2-5d7b-4d4e-bb44-fdd68be29f7d",
   "metadata": {},
   "outputs": [],
   "source": []
  },
  {
   "cell_type": "code",
   "execution_count": null,
   "id": "11e018ca-98ee-4393-9f40-9ea60b0f5f82",
   "metadata": {},
   "outputs": [],
   "source": []
  }
 ],
 "metadata": {
  "kernelspec": {
   "display_name": "Python [conda env:base] *",
   "language": "python",
   "name": "conda-base-py"
  },
  "language_info": {
   "codemirror_mode": {
    "name": "ipython",
    "version": 3
   },
   "file_extension": ".py",
   "mimetype": "text/x-python",
   "name": "python",
   "nbconvert_exporter": "python",
   "pygments_lexer": "ipython3",
   "version": "3.11.5"
  }
 },
 "nbformat": 4,
 "nbformat_minor": 5
}
